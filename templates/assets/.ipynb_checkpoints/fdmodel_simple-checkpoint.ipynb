{
 "cells": [
  {
   "cell_type": "markdown",
   "metadata": {},
   "source": [
    "https://www.youtube.com/watch?v=woKYyhLCcnU"
   ]
  },
  {
   "cell_type": "code",
   "execution_count": 1,
   "metadata": {},
   "outputs": [],
   "source": [
    "import pandas as pd\n",
    "import numpy as np\n",
    "import sqlite3\n",
    "import sqlalchemy as db\n",
    "from sqlalchemy.orm import Session\n",
    "import matplotlib as plt\n",
    "from sklearn.tree import DecisionTreeClassifier # Import Decision Tree Classifier\n",
    "from sklearn.model_selection import train_test_split # Import train_test_split function\n",
    "from sklearn import metrics #Import scikit-learn metrics module for accuracy calculation\n",
    "\n",
    "%matplotlib inline"
   ]
  },
  {
   "cell_type": "markdown",
   "metadata": {},
   "source": [
    "#### Creating sqlite database\n",
    "    follow directions from [here](http://stat-computing.org/dataexpo/2009/sqlite.html) for sqlite database setup"
   ]
  },
  {
   "cell_type": "code",
   "execution_count": 2,
   "metadata": {
    "scrolled": true
   },
   "outputs": [
    {
     "name": "stdout",
     "output_type": "stream",
     "text": [
      "2020-03-21 17:35:46,191 INFO sqlalchemy.engine.base.Engine SELECT CAST('test plain returns' AS VARCHAR(60)) AS anon_1\n",
      "2020-03-21 17:35:46,192 INFO sqlalchemy.engine.base.Engine ()\n",
      "2020-03-21 17:35:46,193 INFO sqlalchemy.engine.base.Engine SELECT CAST('test unicode returns' AS VARCHAR(60)) AS anon_1\n",
      "2020-03-21 17:35:46,194 INFO sqlalchemy.engine.base.Engine ()\n",
      "2020-03-21 17:35:46,196 INFO sqlalchemy.engine.base.Engine PRAGMA main.table_info(\"ontime\")\n",
      "2020-03-21 17:35:46,196 INFO sqlalchemy.engine.base.Engine ()\n",
      "2020-03-21 17:35:46,200 INFO sqlalchemy.engine.base.Engine SELECT sql FROM  (SELECT * FROM sqlite_master UNION ALL   SELECT * FROM sqlite_temp_master) WHERE name = 'ontime' AND type = 'table'\n",
      "2020-03-21 17:35:46,201 INFO sqlalchemy.engine.base.Engine ()\n",
      "2020-03-21 17:35:46,202 INFO sqlalchemy.engine.base.Engine PRAGMA main.foreign_key_list(\"ontime\")\n",
      "2020-03-21 17:35:46,202 INFO sqlalchemy.engine.base.Engine ()\n",
      "2020-03-21 17:35:46,203 INFO sqlalchemy.engine.base.Engine PRAGMA temp.foreign_key_list(\"ontime\")\n",
      "2020-03-21 17:35:46,204 INFO sqlalchemy.engine.base.Engine ()\n",
      "2020-03-21 17:35:46,205 INFO sqlalchemy.engine.base.Engine SELECT sql FROM  (SELECT * FROM sqlite_master UNION ALL   SELECT * FROM sqlite_temp_master) WHERE name = 'ontime' AND type = 'table'\n",
      "2020-03-21 17:35:46,205 INFO sqlalchemy.engine.base.Engine ()\n",
      "2020-03-21 17:35:46,207 INFO sqlalchemy.engine.base.Engine PRAGMA main.index_list(\"ontime\")\n",
      "2020-03-21 17:35:46,208 INFO sqlalchemy.engine.base.Engine ()\n",
      "2020-03-21 17:35:46,209 INFO sqlalchemy.engine.base.Engine PRAGMA main.index_info(\"dest\")\n",
      "2020-03-21 17:35:46,209 INFO sqlalchemy.engine.base.Engine ()\n",
      "2020-03-21 17:35:46,210 INFO sqlalchemy.engine.base.Engine PRAGMA main.index_info(\"origin\")\n",
      "2020-03-21 17:35:46,211 INFO sqlalchemy.engine.base.Engine ()\n",
      "2020-03-21 17:35:46,211 INFO sqlalchemy.engine.base.Engine PRAGMA main.index_info(\"date\")\n",
      "2020-03-21 17:35:46,212 INFO sqlalchemy.engine.base.Engine ()\n",
      "2020-03-21 17:35:46,213 INFO sqlalchemy.engine.base.Engine PRAGMA main.index_info(\"year\")\n",
      "2020-03-21 17:35:46,213 INFO sqlalchemy.engine.base.Engine ()\n",
      "2020-03-21 17:35:46,215 INFO sqlalchemy.engine.base.Engine PRAGMA main.index_list(\"ontime\")\n",
      "2020-03-21 17:35:46,216 INFO sqlalchemy.engine.base.Engine ()\n",
      "2020-03-21 17:35:46,217 INFO sqlalchemy.engine.base.Engine PRAGMA main.index_info(\"dest\")\n",
      "2020-03-21 17:35:46,217 INFO sqlalchemy.engine.base.Engine ()\n",
      "2020-03-21 17:35:46,218 INFO sqlalchemy.engine.base.Engine PRAGMA main.index_info(\"origin\")\n",
      "2020-03-21 17:35:46,219 INFO sqlalchemy.engine.base.Engine ()\n",
      "2020-03-21 17:35:46,219 INFO sqlalchemy.engine.base.Engine PRAGMA main.index_info(\"date\")\n",
      "2020-03-21 17:35:46,220 INFO sqlalchemy.engine.base.Engine ()\n",
      "2020-03-21 17:35:46,221 INFO sqlalchemy.engine.base.Engine PRAGMA main.index_info(\"year\")\n",
      "2020-03-21 17:35:46,222 INFO sqlalchemy.engine.base.Engine ()\n",
      "2020-03-21 17:35:46,222 INFO sqlalchemy.engine.base.Engine SELECT sql FROM  (SELECT * FROM sqlite_master UNION ALL   SELECT * FROM sqlite_temp_master) WHERE name = 'ontime' AND type = 'table'\n",
      "2020-03-21 17:35:46,223 INFO sqlalchemy.engine.base.Engine ()\n"
     ]
    }
   ],
   "source": [
    "engine = db.create_engine('sqlite:///flights.sqlite3', echo=True)     #relative directory (in same folder as this notebook so no directory)\n",
    "connection = engine.connect()\n",
    "flights = db.Table('ontime', db.MetaData(), autoload=True, autoload_with=engine)\n",
    "session = Session(bind=engine)\n"
   ]
  },
  {
   "cell_type": "code",
   "execution_count": 3,
   "metadata": {},
   "outputs": [],
   "source": [
    "cols = flights.columns.keys()"
   ]
  },
  {
   "cell_type": "code",
   "execution_count": 4,
   "metadata": {},
   "outputs": [],
   "source": [
    "#q = session.query(flights)\n",
    "#q2 = q.filter(flights.columns.Year.cast(db.Integer) == 2008)\n",
    "#%%time\n",
    "#list08 = q2.all()"
   ]
  },
  {
   "cell_type": "code",
   "execution_count": 5,
   "metadata": {
    "scrolled": true
   },
   "outputs": [
    {
     "name": "stdout",
     "output_type": "stream",
     "text": [
      "2020-03-21 17:35:46,241 INFO sqlalchemy.engine.base.Engine BEGIN (implicit)\n",
      "2020-03-21 17:35:46,244 INFO sqlalchemy.engine.base.Engine SELECT ontime.\"Year\" AS \"ontime_Year\", ontime.\"Month\" AS \"ontime_Month\", ontime.\"DayofMonth\" AS \"ontime_DayofMonth\", ontime.\"DayOfWeek\" AS \"ontime_DayOfWeek\", ontime.\"DepTime\" AS \"ontime_DepTime\", ontime.\"CRSDepTime\" AS \"ontime_CRSDepTime\", ontime.\"ArrTime\" AS \"ontime_ArrTime\", ontime.\"CRSArrTime\" AS \"ontime_CRSArrTime\", ontime.\"UniqueCarrier\" AS \"ontime_UniqueCarrier\", ontime.\"FlightNum\" AS \"ontime_FlightNum\", ontime.\"TailNum\" AS \"ontime_TailNum\", ontime.\"ActualElapsedTime\" AS \"ontime_ActualElapsedTime\", ontime.\"CRSElapsedTime\" AS \"ontime_CRSElapsedTime\", ontime.\"AirTime\" AS \"ontime_AirTime\", ontime.\"ArrDelay\" AS \"ontime_ArrDelay\", ontime.\"DepDelay\" AS \"ontime_DepDelay\", ontime.\"Origin\" AS \"ontime_Origin\", ontime.\"Dest\" AS \"ontime_Dest\", ontime.\"Distance\" AS \"ontime_Distance\", ontime.\"TaxiIn\" AS \"ontime_TaxiIn\", ontime.\"TaxiOut\" AS \"ontime_TaxiOut\", ontime.\"Cancelled\" AS \"ontime_Cancelled\", ontime.\"CancellationCode\" AS \"ontime_CancellationCode\", ontime.\"Diverted\" AS \"ontime_Diverted\", ontime.\"CarrierDelay\" AS \"ontime_CarrierDelay\", ontime.\"WeatherDelay\" AS \"ontime_WeatherDelay\", ontime.\"NASDelay\" AS \"ontime_NASDelay\", ontime.\"SecurityDelay\" AS \"ontime_SecurityDelay\", ontime.\"LateAircraftDelay\" AS \"ontime_LateAircraftDelay\" \n",
      "FROM ontime\n",
      " LIMIT ? OFFSET ?\n",
      "2020-03-21 17:35:46,245 INFO sqlalchemy.engine.base.Engine (7009728, 0)\n",
      "CPU times: user 1min 31s, sys: 13.7 s, total: 1min 45s\n",
      "Wall time: 1min 51s\n"
     ]
    }
   ],
   "source": [
    "%%time\n",
    "first = list(session.query(flights).limit(7009728))\n",
    "#7009728"
   ]
  },
  {
   "cell_type": "code",
   "execution_count": null,
   "metadata": {},
   "outputs": [],
   "source": [
    "df = pd.DataFrame(data = first, columns = cols)"
   ]
  },
  {
   "cell_type": "code",
   "execution_count": null,
   "metadata": {
    "scrolled": true
   },
   "outputs": [],
   "source": [
    "df.head()"
   ]
  },
  {
   "cell_type": "markdown",
   "metadata": {},
   "source": [
    "# Flights in 2008"
   ]
  },
  {
   "cell_type": "code",
   "execution_count": null,
   "metadata": {},
   "outputs": [],
   "source": [
    "df08 = df[df.Year==2008]"
   ]
  },
  {
   "cell_type": "code",
   "execution_count": null,
   "metadata": {
    "scrolled": false
   },
   "outputs": [],
   "source": [
    "len(df08)"
   ]
  },
  {
   "cell_type": "code",
   "execution_count": null,
   "metadata": {},
   "outputs": [],
   "source": [
    "df08 = df08.sample(frac = .20, random_state = 2)"
   ]
  },
  {
   "cell_type": "code",
   "execution_count": null,
   "metadata": {},
   "outputs": [],
   "source": [
    "len(df08)"
   ]
  },
  {
   "cell_type": "markdown",
   "metadata": {},
   "source": [
    "### Preprocessing"
   ]
  },
  {
   "cell_type": "code",
   "execution_count": null,
   "metadata": {
    "scrolled": true
   },
   "outputs": [],
   "source": [
    "#filter out Canceled flights\n",
    "df08 = df08[df08.Cancelled != 1]"
   ]
  },
  {
   "cell_type": "code",
   "execution_count": null,
   "metadata": {},
   "outputs": [],
   "source": [
    "#need an arrival time for all the flights\n",
    "df08 = df08[df08.ArrDelay != \"NA\"]"
   ]
  },
  {
   "cell_type": "code",
   "execution_count": null,
   "metadata": {},
   "outputs": [],
   "source": [
    "#drop 'CancellationCode','Diverted'\n",
    "df08 = df08.drop(columns =['CancellationCode','Diverted', \"Cancelled\"])"
   ]
  },
  {
   "cell_type": "code",
   "execution_count": null,
   "metadata": {},
   "outputs": [],
   "source": [
    "#turning columns to ints\n",
    "df08['ArrDelay'] = df08['ArrDelay'].astype(int)\n",
    "df08['ArrTime'] = df08['ArrTime'].astype(int)\n",
    "df08['AirTime'] = df08['AirTime'].astype(int)\n",
    "df08['DepTime'] = df08['DepTime'].astype(int)\n",
    "df08['ActualElapsedTime'] = df08['ActualElapsedTime'].astype(int)\n",
    "df08['CRSElapsedTime'] = df08['CRSElapsedTime'].astype(int)\n",
    "df08['DepDelay'] = df08['DepDelay'].astype(int)\n",
    "df08['TaxiIn'] = df08['TaxiIn'].astype(int)\n",
    "df08['TaxiOut'] = df08['TaxiOut'].astype(int)"
   ]
  },
  {
   "cell_type": "code",
   "execution_count": null,
   "metadata": {},
   "outputs": [],
   "source": [
    "#changing NAs to 0 for types of delays\n",
    "df08.loc[df08.CarrierDelay ==\"NA\", \"CarrierDelay\"]=0\n",
    "df08.loc[df08.WeatherDelay ==\"NA\", \"WeatherDelay\"]=0\n",
    "df08.loc[df08.NASDelay==\"NA\",\"NASDelay\"]=0\n",
    "df08.loc[df08.SecurityDelay==\"NA\",\"SecurityDelay\"]=0\n",
    "df08.loc[df08.LateAircraftDelay ==\"NA\",\"LateAircraftDelay\"]=0"
   ]
  },
  {
   "cell_type": "code",
   "execution_count": null,
   "metadata": {},
   "outputs": [],
   "source": [
    "# Categorical boolean mask\n",
    "categorical_feature_mask = df08.dtypes==object\n",
    "# filter categorical columns using mask and turn it into a list\n",
    "categorical_cols = df08.columns[categorical_feature_mask].tolist()"
   ]
  },
  {
   "cell_type": "code",
   "execution_count": null,
   "metadata": {},
   "outputs": [],
   "source": [
    "len(df08)"
   ]
  },
  {
   "cell_type": "code",
   "execution_count": null,
   "metadata": {},
   "outputs": [],
   "source": [
    "df08 = df08.drop(columns=\"TailNum\")"
   ]
  },
  {
   "cell_type": "code",
   "execution_count": null,
   "metadata": {},
   "outputs": [],
   "source": [
    "#all flights are from 2008 so shouldn't make a difference\n",
    "df08 = df08.drop(columns = 'Year')"
   ]
  },
  {
   "cell_type": "code",
   "execution_count": null,
   "metadata": {},
   "outputs": [],
   "source": [
    "#might not be easy for someone to quickly find the distance in miles for their flight\n",
    "df08 = df08.drop(columns = \"Distance\")"
   ]
  },
  {
   "cell_type": "code",
   "execution_count": null,
   "metadata": {},
   "outputs": [],
   "source": [
    "#might not have same flight number is 2020 as in 2008\n",
    "df08 = df08.drop(columns = \"FlightNum\")"
   ]
  },
  {
   "cell_type": "code",
   "execution_count": null,
   "metadata": {},
   "outputs": [],
   "source": [
    "#would need to onehot encode, its possible but would take awhile \n",
    "#think about adding this once app is functional\n",
    "df08 = df08.drop(columns = ['UniqueCarrier', 'Origin', 'Dest'])"
   ]
  },
  {
   "cell_type": "code",
   "execution_count": null,
   "metadata": {
    "scrolled": true
   },
   "outputs": [],
   "source": [
    "df08.head()"
   ]
  },
  {
   "cell_type": "code",
   "execution_count": null,
   "metadata": {},
   "outputs": [],
   "source": [
    "df08_test = df08"
   ]
  },
  {
   "cell_type": "markdown",
   "metadata": {},
   "source": [
    "## Feature Engineering"
   ]
  },
  {
   "cell_type": "markdown",
   "metadata": {},
   "source": [
    "##### Classifier of delay columnns"
   ]
  },
  {
   "cell_type": "code",
   "execution_count": null,
   "metadata": {},
   "outputs": [],
   "source": [
    "#adding delayed column for over delays over 60min\n",
    "df08_test['delayedOverHour'] = 0\n",
    "df08_test.loc[df08['ArrDelay'] > 60,'delayedOverHour'] = 1"
   ]
  },
  {
   "cell_type": "code",
   "execution_count": null,
   "metadata": {},
   "outputs": [],
   "source": [
    "#adding delayed column for over delays over 30min\n",
    "df08_test['delayedOver30'] = 0\n",
    "df08_test.loc[df08['ArrDelay'] > 30,'delayedOver30'] = 1"
   ]
  },
  {
   "cell_type": "code",
   "execution_count": null,
   "metadata": {
    "scrolled": false
   },
   "outputs": [],
   "source": [
    "df08_test.head()"
   ]
  },
  {
   "cell_type": "markdown",
   "metadata": {},
   "source": [
    "## Predicting whether you will be delayed\n",
    "average layover is an hour"
   ]
  },
  {
   "cell_type": "code",
   "execution_count": null,
   "metadata": {},
   "outputs": [],
   "source": [
    "feature_cols = list(df08_test.columns)\n",
    "#feature_cols"
   ]
  },
  {
   "cell_type": "code",
   "execution_count": null,
   "metadata": {},
   "outputs": [],
   "source": [
    "feature_cols"
   ]
  },
  {
   "cell_type": "code",
   "execution_count": null,
   "metadata": {},
   "outputs": [],
   "source": [
    "categorical_feature_mask = df08_test.dtypes==object\n",
    "# filter categorical columns using mask and turn it into a list\n",
    "categorical_cols = df08_test.columns[categorical_feature_mask].tolist()\n",
    "#list(categorical_feature_mask)"
   ]
  },
  {
   "cell_type": "code",
   "execution_count": null,
   "metadata": {},
   "outputs": [],
   "source": [
    "foresight_cols = [\"ArrTime\",\"ActualElapsedTime\",\"DepDelay\",'delayedOver30', 'delayedOverHour',\"AirTime\",\"ArrDelay\", \"DepTime\",\"TaxiIn\",\"TaxiOut\",'WeatherDelay','NASDelay','SecurityDelay','LateAircraftDelay',\"CarrierDelay\"]\n",
    "## 'WeatherDelay','NASDelay','SecurityDelay','LateAircraftDelay',\"CarrierDelay\",\n",
    "cols_drop = foresight_cols\n",
    "for i in cols_drop:\n",
    "    feature_cols.remove(i)\n",
    "X = df08_test[feature_cols] # Features\n",
    "y = df08_test.delayedOverHour # Target variable"
   ]
  },
  {
   "cell_type": "code",
   "execution_count": null,
   "metadata": {
    "scrolled": true
   },
   "outputs": [],
   "source": [
    "# Split dataset into training set and test set\n",
    "X_train, X_test, y_train, y_test = train_test_split(X, y, test_size=0.2, random_state=1) \n",
    "print(X_train.shape, y_train.shape)\n",
    "print(X_test.shape, y_test.shape)"
   ]
  },
  {
   "cell_type": "markdown",
   "metadata": {},
   "source": [
    "###### Random Forest\n",
    "https://towardsdatascience.com/random-forest-in-python-24d0893d51c0"
   ]
  },
  {
   "cell_type": "code",
   "execution_count": null,
   "metadata": {},
   "outputs": [],
   "source": [
    "X = df08_test[feature_cols] # Features\n",
    "y = df08_test.delayedOverHour # Target variable"
   ]
  },
  {
   "cell_type": "code",
   "execution_count": null,
   "metadata": {
    "scrolled": true
   },
   "outputs": [],
   "source": [
    "# Split dataset into training set and test set\n",
    "X_train, X_test, y_train, y_test = train_test_split(X, y, test_size=0.2, random_state=1) \n",
    "print(X_train.shape, y_train.shape)\n",
    "print(X_test.shape, y_test.shape)"
   ]
  },
  {
   "cell_type": "code",
   "execution_count": null,
   "metadata": {
    "scrolled": true
   },
   "outputs": [],
   "source": [
    "from sklearn.ensemble import RandomForestClassifier\n",
    "rf = RandomForestClassifier(n_estimators = 10, random_state = 42)\n",
    "model = rf.fit(X_train, y_train)\n",
    "# Use the forest's predict method on the test data\n",
    "predictions = rf.predict(X_test)\n",
    "print(\"Score:\", model.score(X_test, y_test))"
   ]
  },
  {
   "cell_type": "code",
   "execution_count": null,
   "metadata": {},
   "outputs": [],
   "source": [
    "X_test.head()\n",
    "#type(X_test)"
   ]
  },
  {
   "cell_type": "code",
   "execution_count": null,
   "metadata": {},
   "outputs": [],
   "source": [
    "A = list(X_test.loc[7000034])\n",
    "\n",
    "test_df = pd.DataFrame([A])\n",
    "test_df"
   ]
  },
  {
   "cell_type": "code",
   "execution_count": null,
   "metadata": {},
   "outputs": [],
   "source": [
    "p = rf.predict(test_df)\n",
    "p[0]"
   ]
  },
  {
   "cell_type": "code",
   "execution_count": null,
   "metadata": {},
   "outputs": [],
   "source": [
    "print(len(predictions))\n",
    "print(sum(predictions))\n",
    "\n",
    "#percent flights model predicted were late\n",
    "sum(predictions)/len(predictions)"
   ]
  },
  {
   "cell_type": "code",
   "execution_count": null,
   "metadata": {},
   "outputs": [],
   "source": [
    "#percent of real late flights\n",
    "sum(y_test)/len(predictions)"
   ]
  },
  {
   "cell_type": "code",
   "execution_count": null,
   "metadata": {},
   "outputs": [],
   "source": [
    "def perf_measure(y_actual, y_hat):\n",
    "    TP = 0\n",
    "    FP = 0\n",
    "    TN = 0\n",
    "    FN = 0\n",
    "\n",
    "    for i in range(len(y_hat)): \n",
    "        if y_actual[i]==y_hat[i]==1:\n",
    "           TP += 1\n",
    "        if y_hat[i]==1 and y_actual[i]!=y_hat[i]:\n",
    "           FP += 1\n",
    "        if y_actual[i]==y_hat[i]==0:\n",
    "           TN += 1\n",
    "        if y_hat[i]==0 and y_actual[i]!=y_hat[i]:\n",
    "           FN += 1\n",
    "\n",
    "    return(TP, FP, TN, FN)"
   ]
  },
  {
   "cell_type": "code",
   "execution_count": null,
   "metadata": {},
   "outputs": [],
   "source": [
    "#True positives, false positives, true negatives, false negatives \n",
    "perf_measure(predictions, list(y_test))"
   ]
  },
  {
   "cell_type": "code",
   "execution_count": null,
   "metadata": {
    "scrolled": true
   },
   "outputs": [],
   "source": [
    "# Get numerical feature importances\n",
    "importances = list(rf.feature_importances_)\n",
    "# List of tuples with variable and importance\n",
    "feature_importances = [(feature, round(importance, 2)) for feature, importance in zip(feature_cols, importances)]\n",
    "# Sort the feature importances by most important first\n",
    "feature_importances = sorted(feature_importances, key = lambda x: x[1], reverse = True)\n",
    "# Print out the feature and importances \n",
    "[print('Variable: {:20} Importance: {}'.format(*pair)) for pair in feature_importances];"
   ]
  },
  {
   "cell_type": "markdown",
   "metadata": {},
   "source": [
    "#### Save model"
   ]
  },
  {
   "cell_type": "code",
   "execution_count": null,
   "metadata": {},
   "outputs": [],
   "source": [
    "import pickle\n",
    "model_file_path = '/Users/alderik/Documents/Job/Projects/FlightDelayApp/'\n",
    "with open('mlp_rf.pkl', 'wb') as handle:\n",
    "    pickle.dump(model, handle, pickle.HIGHEST_PROTOCOL)"
   ]
  },
  {
   "cell_type": "markdown",
   "metadata": {},
   "source": [
    "# -------------------------------------------------------------------------------------------"
   ]
  },
  {
   "cell_type": "code",
   "execution_count": null,
   "metadata": {
    "scrolled": true
   },
   "outputs": [],
   "source": [
    "# #Having trouble graphing a tree with all the one-hot encoded cat-features\n",
    "\n",
    "# # Extract single tree\n",
    "# estimator = model.estimators_[5]\n",
    "\n",
    "# from sklearn.tree import export_graphviz\n",
    "# # Export as dot file\n",
    "# export_graphviz(estimator, out_file='delays.dot', \n",
    "#                 feature_names = feature_cols,\n",
    "#                 rounded = True, proportion = False, \n",
    "#                 precision = 2, filled = True)\n",
    "\n",
    "# # Convert to png using system command (requires Graphviz)\n",
    "# from subprocess import call\n",
    "# call(['dot', '-Tpng', 'delays.dot', '-o', 'delay.png', '-Gdpi=600'])\n",
    "\n",
    "# # Display in jupyter notebook\n",
    "# from IPython.display import Image\n",
    "# Image(filename = 'delay.png')"
   ]
  },
  {
   "cell_type": "markdown",
   "metadata": {},
   "source": [
    "###### Cross Validation with KFolds of RF"
   ]
  },
  {
   "cell_type": "code",
   "execution_count": 87,
   "metadata": {},
   "outputs": [
    {
     "name": "stdout",
     "output_type": "stream",
     "text": [
      "KFold(n_splits=10, random_state=None, shuffle=False)\n"
     ]
    }
   ],
   "source": [
    "import numpy as np\n",
    "import pandas as pd\n",
    "from sklearn import datasets, linear_model\n",
    "from sklearn.model_selection import train_test_split, KFold\n",
    "from matplotlib import pyplot as plt\n",
    "\n",
    "X.to_numpy() # create an array\n",
    "# Create another array\n",
    "kf = KFold(n_splits=10) # Define the split - into 2 folds \n",
    "kf.get_n_splits(X) # returns the number of splitting iterations in the cross-validator\n",
    "print(kf) "
   ]
  },
  {
   "cell_type": "code",
   "execution_count": 88,
   "metadata": {
    "scrolled": true
   },
   "outputs": [
    {
     "name": "stdout",
     "output_type": "stream",
     "text": [
      "-----------\n",
      "-----------\n",
      "the 1 fold score is 0.972648\n",
      "-----------\n",
      "-----------\n",
      "the 2 fold score is 0.973410\n",
      "-----------\n",
      "-----------\n",
      "the 3 fold score is 0.973206\n",
      "-----------\n",
      "-----------\n",
      "the 4 fold score is 0.973417\n",
      "-----------\n",
      "-----------\n",
      "the 5 fold score is 0.973323\n",
      "-----------\n",
      "-----------\n",
      "the 1 fold score is 0.972768\n",
      "-----------\n",
      "-----------\n",
      "the 2 fold score is 0.972994\n",
      "-----------\n",
      "-----------\n",
      "the 3 fold score is 0.972495\n",
      "-----------\n",
      "-----------\n",
      "the 4 fold score is 0.972786\n",
      "-----------\n",
      "-----------\n",
      "the 5 fold score is 0.973195\n"
     ]
    }
   ],
   "source": [
    "import time\n",
    "\n",
    "losses = []\n",
    "models = []\n",
    "test_scores = []\n",
    "train_scores = []\n",
    "numfold = []\n",
    "num=0\n",
    "s_time = time.time()\n",
    "\n",
    "for k in range(2): #make bigger than 2 to make larger ensemble\n",
    "    #preventing overfitting with Kfold\n",
    "    kfold = KFold(10, random_state = 42 + k, shuffle = True)\n",
    "    for k_fold, (tr_inds, val_inds) in enumerate(kfold.split(y)):\n",
    "        print(\"-----------\")\n",
    "        print(\"-----------\")\n",
    "        tr_x,tr_y = X.iloc[tr_inds],y.iloc[tr_inds]\n",
    "        val_x,val_y = X.iloc[val_inds],y.iloc[val_inds]\n",
    "        rf = RandomForestClassifier(n_estimators = 5, random_state = 42)\n",
    "        model = rf.fit(tr_x,tr_y)\n",
    "        predictions = rf.predict(X_test)\n",
    "        models.append(model)\n",
    "        test_scores.append(model.score(X_test, y_test))\n",
    "        train_scores.append(model.score(X_train, y_train))\n",
    "        num+=1\n",
    "        numfold.append(num)\n",
    "        print(\"the %d fold score is %f\"%((k_fold+1),model.score(X_test, y_test)))"
   ]
  },
  {
   "cell_type": "code",
   "execution_count": 91,
   "metadata": {},
   "outputs": [
    {
     "data": {
      "image/png": "[encoded data removed]",
      "text/plain": [
       "<Figure size 432x288 with 1 Axes>"
      ]
     },
     "metadata": {
      "needs_background": "light"
     },
     "output_type": "display_data"
    }
   ],
   "source": [
    "from matplotlib import pyplot\n",
    "\n",
    "x = test_scores\n",
    "y = train_scores\n",
    "\n",
    "bins = 7\n",
    "\n",
    "pyplot.hist(x, bins, alpha=0.5, label='Test')\n",
    "pyplot.hist(y, bins, alpha=0.5, label='Train')\n",
    "pyplot.legend(loc='upper right')\n",
    "pyplot.ylabel(\"Occurences\")\n",
    "pyplot.xlabel(\"Accuracy\")\n",
    "pyplot.show()"
   ]
  },
  {
   "cell_type": "code",
   "execution_count": 90,
   "metadata": {},
   "outputs": [
    {
     "data": {
      "image/png": "[encoded data removed]",
      "text/plain": [
       "<Figure size 432x288 with 1 Axes>"
      ]
     },
     "metadata": {
      "needs_background": "light"
     },
     "output_type": "display_data"
    }
   ],
   "source": [
    "plt.plot(numfold, test_scores)\n",
    "plt.plot(numfold, train_scores)\n",
    "\n",
    "plt.legend(['test scores', 'train scores'], loc='upper left')\n",
    "\n",
    "plt.show()"
   ]
  },
  {
   "cell_type": "code",
   "execution_count": null,
   "metadata": {
    "scrolled": true
   },
   "outputs": [],
   "source": [
    "# #output of decision tree\n",
    "# from sklearn.tree import export_graphviz\n",
    "# from sklearn.externals.six import StringIO  \n",
    "# from IPython.display import Image  \n",
    "# import pydotplus\n",
    "\n",
    "# dot_data = StringIO()\n",
    "# export_graphviz(clf, out_file=dot_data,  \n",
    "#                 filled=True, rounded=True,\n",
    "#                 special_characters=True,feature_names = feature_cols,class_names=['0','1'])\n",
    "# graph = pydotplus.graph_from_dot_data(dot_data.getvalue())  \n",
    "# graph.write_png('airlinedelays.png')\n",
    "# Image(graph.create_png())"
   ]
  },
  {
   "cell_type": "markdown",
   "metadata": {},
   "source": [
    "## Predicting Amount of Time Delayed"
   ]
  },
  {
   "cell_type": "code",
   "execution_count": 115,
   "metadata": {},
   "outputs": [],
   "source": [
    "feature_cols = list(df08_test.columns)\n",
    "#feature_cols"
   ]
  },
  {
   "cell_type": "code",
   "execution_count": 116,
   "metadata": {},
   "outputs": [],
   "source": [
    "categorical_feature_mask = df08_test.dtypes==object\n",
    "# filter categorical columns using mask and turn it into a list\n",
    "categorical_cols = df08_test.columns[categorical_feature_mask].tolist()\n",
    "#list(categorical_feature_mask)"
   ]
  },
  {
   "cell_type": "code",
   "execution_count": 117,
   "metadata": {},
   "outputs": [],
   "source": [
    "foresight_cols = [\"ArrTime\",\"ActualElapsedTime\",\"DepDelay\",'delayedOver30', 'delayedOverHour',\"AirTime\",\"ArrDelay\",\"DepTime\",\"TaxiIn\",\"TaxiOut\"]\n",
    "#'WeatherDelay','NASDelay','SecurityDelay','LateAircraftDelay',\"CarrierDelay\", \n",
    "cols_drop = foresight_cols\n",
    "for i in cols_drop:\n",
    "    feature_cols.remove(i)\n",
    "X = df08_test[feature_cols] # Features\n",
    "y = df08_test.ArrDelay # Target variable"
   ]
  },
  {
   "cell_type": "code",
   "execution_count": 118,
   "metadata": {
    "scrolled": true
   },
   "outputs": [
    {
     "name": "stdout",
     "output_type": "stream",
     "text": [
      "(1096806, 336) (1096806,)\n",
      "(274202, 336) (274202,)\n"
     ]
    }
   ],
   "source": [
    "# Split dataset into training set and test set\n",
    "X_train, X_test, y_train, y_test = train_test_split(X, y, test_size=0.2, random_state=1) # 70% training and 30% test\n",
    "print(X_train.shape, y_train.shape)\n",
    "print(X_test.shape, y_test.shape)"
   ]
  },
  {
   "cell_type": "code",
   "execution_count": 119,
   "metadata": {},
   "outputs": [
    {
     "name": "stdout",
     "output_type": "stream",
     "text": [
      "Score: 0.43041202768938147\n"
     ]
    }
   ],
   "source": [
    "from sklearn.ensemble import RandomForestRegressor\n",
    "rf = RandomForestRegressor(n_estimators = 10, random_state = 42)\n",
    "model = rf.fit(X_train, y_train)\n",
    "# Use the forest's predict method on the test data\n",
    "predictions = rf.predict(X_test)\n",
    "print(\"Score:\", model.score(X_test, y_test))"
   ]
  },
  {
   "cell_type": "code",
   "execution_count": 120,
   "metadata": {
    "scrolled": true
   },
   "outputs": [
    {
     "name": "stdout",
     "output_type": "stream",
     "text": [
      "Variable: NASDelay             Importance: 0.24\n",
      "Variable: LateAircraftDelay    Importance: 0.13\n",
      "Variable: CarrierDelay         Importance: 0.09\n",
      "Variable: DayofMonth           Importance: 0.07\n",
      "Variable: CRSArrTime           Importance: 0.05\n",
      "Variable: FlightNum            Importance: 0.05\n",
      "Variable: Month                Importance: 0.04\n",
      "Variable: DayOfWeek            Importance: 0.04\n",
      "Variable: CRSDepTime           Importance: 0.04\n",
      "Variable: CRSElapsedTime       Importance: 0.04\n",
      "Variable: Distance             Importance: 0.02\n",
      "Variable: WeatherDelay         Importance: 0.01\n",
      "Variable: _ORD                 Importance: 0.01\n",
      "Variable: Year                 Importance: 0.0\n",
      "Variable: SecurityDelay        Importance: 0.0\n",
      "Variable: _ABE                 Importance: 0.0\n",
      "Variable: _ABI                 Importance: 0.0\n",
      "Variable: _ABQ                 Importance: 0.0\n",
      "Variable: _ABY                 Importance: 0.0\n",
      "Variable: _ACK                 Importance: 0.0\n",
      "Variable: _ACT                 Importance: 0.0\n",
      "Variable: _ACV                 Importance: 0.0\n",
      "Variable: _ACY                 Importance: 0.0\n",
      "Variable: _ADK                 Importance: 0.0\n",
      "Variable: _ADQ                 Importance: 0.0\n",
      "Variable: _AEX                 Importance: 0.0\n",
      "Variable: _AGS                 Importance: 0.0\n",
      "Variable: _AKN                 Importance: 0.0\n",
      "Variable: _ALB                 Importance: 0.0\n",
      "Variable: _ALO                 Importance: 0.0\n",
      "Variable: _AMA                 Importance: 0.0\n",
      "Variable: _ANC                 Importance: 0.0\n",
      "Variable: _ASE                 Importance: 0.0\n",
      "Variable: _ATL                 Importance: 0.0\n",
      "Variable: _ATW                 Importance: 0.0\n",
      "Variable: _AUS                 Importance: 0.0\n",
      "Variable: _AVL                 Importance: 0.0\n",
      "Variable: _AVP                 Importance: 0.0\n",
      "Variable: _AZO                 Importance: 0.0\n",
      "Variable: _BDL                 Importance: 0.0\n",
      "Variable: _BET                 Importance: 0.0\n",
      "Variable: _BFL                 Importance: 0.0\n",
      "Variable: _BGM                 Importance: 0.0\n",
      "Variable: _BGR                 Importance: 0.0\n",
      "Variable: _BHM                 Importance: 0.0\n",
      "Variable: _BIL                 Importance: 0.0\n",
      "Variable: _BIS                 Importance: 0.0\n",
      "Variable: _BJI                 Importance: 0.0\n",
      "Variable: _BLI                 Importance: 0.0\n",
      "Variable: _BMI                 Importance: 0.0\n",
      "Variable: _BNA                 Importance: 0.0\n",
      "Variable: _BOI                 Importance: 0.0\n",
      "Variable: _BOS                 Importance: 0.0\n",
      "Variable: _BPT                 Importance: 0.0\n",
      "Variable: _BQK                 Importance: 0.0\n",
      "Variable: _BQN                 Importance: 0.0\n",
      "Variable: _BRO                 Importance: 0.0\n",
      "Variable: _BRW                 Importance: 0.0\n",
      "Variable: _BTM                 Importance: 0.0\n",
      "Variable: _BTR                 Importance: 0.0\n",
      "Variable: _BTV                 Importance: 0.0\n",
      "Variable: _BUF                 Importance: 0.0\n",
      "Variable: _BUR                 Importance: 0.0\n",
      "Variable: _BWI                 Importance: 0.0\n",
      "Variable: _BZN                 Importance: 0.0\n",
      "Variable: _CAE                 Importance: 0.0\n",
      "Variable: _CAK                 Importance: 0.0\n",
      "Variable: _CDC                 Importance: 0.0\n",
      "Variable: _CDV                 Importance: 0.0\n",
      "Variable: _CEC                 Importance: 0.0\n",
      "Variable: _CHA                 Importance: 0.0\n",
      "Variable: _CHO                 Importance: 0.0\n",
      "Variable: _CHS                 Importance: 0.0\n",
      "Variable: _CIC                 Importance: 0.0\n",
      "Variable: _CID                 Importance: 0.0\n",
      "Variable: _CLD                 Importance: 0.0\n",
      "Variable: _CLE                 Importance: 0.0\n",
      "Variable: _CLL                 Importance: 0.0\n",
      "Variable: _CLT                 Importance: 0.0\n",
      "Variable: _CMH                 Importance: 0.0\n",
      "Variable: _CMI                 Importance: 0.0\n",
      "Variable: _CMX                 Importance: 0.0\n",
      "Variable: _COD                 Importance: 0.0\n",
      "Variable: _COS                 Importance: 0.0\n",
      "Variable: _CPR                 Importance: 0.0\n",
      "Variable: _CRP                 Importance: 0.0\n",
      "Variable: _CRW                 Importance: 0.0\n",
      "Variable: _CSG                 Importance: 0.0\n",
      "Variable: _CVG                 Importance: 0.0\n",
      "Variable: _CWA                 Importance: 0.0\n",
      "Variable: _DAB                 Importance: 0.0\n",
      "Variable: _DAL                 Importance: 0.0\n",
      "Variable: _DAY                 Importance: 0.0\n",
      "Variable: _DBQ                 Importance: 0.0\n",
      "Variable: _DCA                 Importance: 0.0\n",
      "Variable: _DEN                 Importance: 0.0\n",
      "Variable: _DFW                 Importance: 0.0\n",
      "Variable: _DHN                 Importance: 0.0\n",
      "Variable: _DLG                 Importance: 0.0\n",
      "Variable: _DLH                 Importance: 0.0\n",
      "Variable: _DRO                 Importance: 0.0\n",
      "Variable: _DSM                 Importance: 0.0\n",
      "Variable: _DTW                 Importance: 0.0\n",
      "Variable: _EGE                 Importance: 0.0\n",
      "Variable: _EKO                 Importance: 0.0\n",
      "Variable: _ELM                 Importance: 0.0\n",
      "Variable: _ELP                 Importance: 0.0\n",
      "Variable: _ERI                 Importance: 0.0\n",
      "Variable: _EUG                 Importance: 0.0\n",
      "Variable: _EVV                 Importance: 0.0\n",
      "Variable: _EWN                 Importance: 0.0\n",
      "Variable: _EWR                 Importance: 0.0\n",
      "Variable: _EYW                 Importance: 0.0\n",
      "Variable: _FAI                 Importance: 0.0\n",
      "Variable: _FAR                 Importance: 0.0\n",
      "Variable: _FAT                 Importance: 0.0\n",
      "Variable: _FAY                 Importance: 0.0\n",
      "Variable: _FCA                 Importance: 0.0\n",
      "Variable: _FLG                 Importance: 0.0\n",
      "Variable: _FLL                 Importance: 0.0\n",
      "Variable: _FLO                 Importance: 0.0\n",
      "Variable: _FNT                 Importance: 0.0\n",
      "Variable: _FSD                 Importance: 0.0\n",
      "Variable: _FSM                 Importance: 0.0\n",
      "Variable: _FWA                 Importance: 0.0\n",
      "Variable: _GCC                 Importance: 0.0\n",
      "Variable: _GEG                 Importance: 0.0\n",
      "Variable: _GFK                 Importance: 0.0\n",
      "Variable: _GGG                 Importance: 0.0\n",
      "Variable: _GJT                 Importance: 0.0\n",
      "Variable: _GNV                 Importance: 0.0\n",
      "Variable: _GPT                 Importance: 0.0\n",
      "Variable: _GRB                 Importance: 0.0\n",
      "Variable: _GRK                 Importance: 0.0\n",
      "Variable: _GRR                 Importance: 0.0\n",
      "Variable: _GSO                 Importance: 0.0\n",
      "Variable: _GSP                 Importance: 0.0\n",
      "Variable: _GST                 Importance: 0.0\n",
      "Variable: _GTF                 Importance: 0.0\n",
      "Variable: _GTR                 Importance: 0.0\n",
      "Variable: _GUC                 Importance: 0.0\n",
      "Variable: _HDN                 Importance: 0.0\n",
      "Variable: _HHH                 Importance: 0.0\n",
      "Variable: _HLN                 Importance: 0.0\n",
      "Variable: _HNL                 Importance: 0.0\n",
      "Variable: _HOU                 Importance: 0.0\n",
      "Variable: _HPN                 Importance: 0.0\n",
      "Variable: _HRL                 Importance: 0.0\n",
      "Variable: _HSV                 Importance: 0.0\n",
      "Variable: _HTS                 Importance: 0.0\n",
      "Variable: _IAD                 Importance: 0.0\n",
      "Variable: _IAH                 Importance: 0.0\n",
      "Variable: _ICT                 Importance: 0.0\n",
      "Variable: _IDA                 Importance: 0.0\n",
      "Variable: _ILM                 Importance: 0.0\n",
      "Variable: _IND                 Importance: 0.0\n",
      "Variable: _INL                 Importance: 0.0\n",
      "Variable: _IPL                 Importance: 0.0\n",
      "Variable: _ISP                 Importance: 0.0\n",
      "Variable: _ITH                 Importance: 0.0\n",
      "Variable: _ITO                 Importance: 0.0\n",
      "Variable: _IYK                 Importance: 0.0\n",
      "Variable: _JAC                 Importance: 0.0\n",
      "Variable: _JAN                 Importance: 0.0\n",
      "Variable: _JAX                 Importance: 0.0\n",
      "Variable: _JFK                 Importance: 0.0\n",
      "Variable: _JNU                 Importance: 0.0\n",
      "Variable: _KOA                 Importance: 0.0\n",
      "Variable: _KTN                 Importance: 0.0\n",
      "Variable: _LAN                 Importance: 0.0\n",
      "Variable: _LAS                 Importance: 0.0\n",
      "Variable: _LAW                 Importance: 0.0\n",
      "Variable: _LAX                 Importance: 0.0\n",
      "Variable: _LBB                 Importance: 0.0\n",
      "Variable: _LCH                 Importance: 0.0\n",
      "Variable: _LEX                 Importance: 0.0\n",
      "Variable: _LFT                 Importance: 0.0\n",
      "Variable: _LGA                 Importance: 0.0\n",
      "Variable: _LGB                 Importance: 0.0\n",
      "Variable: _LIH                 Importance: 0.0\n",
      "Variable: _LIT                 Importance: 0.0\n",
      "Variable: _LMT                 Importance: 0.0\n",
      "Variable: _LNK                 Importance: 0.0\n",
      "Variable: _LRD                 Importance: 0.0\n",
      "Variable: _LSE                 Importance: 0.0\n",
      "Variable: _LWB                 Importance: 0.0\n",
      "Variable: _LWS                 Importance: 0.0\n",
      "Variable: _LYH                 Importance: 0.0\n",
      "Variable: _MAF                 Importance: 0.0\n",
      "Variable: _MBS                 Importance: 0.0\n",
      "Variable: _MCI                 Importance: 0.0\n",
      "Variable: _MCN                 Importance: 0.0\n",
      "Variable: _MCO                 Importance: 0.0\n",
      "Variable: _MDT                 Importance: 0.0\n",
      "Variable: _MDW                 Importance: 0.0\n",
      "Variable: _MEI                 Importance: 0.0\n",
      "Variable: _MEM                 Importance: 0.0\n",
      "Variable: _MFE                 Importance: 0.0\n",
      "Variable: _MFR                 Importance: 0.0\n",
      "Variable: _MGM                 Importance: 0.0\n",
      "Variable: _MHT                 Importance: 0.0\n",
      "Variable: _MIA                 Importance: 0.0\n",
      "Variable: _MKE                 Importance: 0.0\n",
      "Variable: _MKG                 Importance: 0.0\n",
      "Variable: _MLB                 Importance: 0.0\n",
      "Variable: _MLI                 Importance: 0.0\n",
      "Variable: _MLU                 Importance: 0.0\n",
      "Variable: _MOB                 Importance: 0.0\n",
      "Variable: _MOD                 Importance: 0.0\n",
      "Variable: _MOT                 Importance: 0.0\n",
      "Variable: _MQT                 Importance: 0.0\n",
      "Variable: _MRY                 Importance: 0.0\n",
      "Variable: _MSN                 Importance: 0.0\n",
      "Variable: _MSO                 Importance: 0.0\n",
      "Variable: _MSP                 Importance: 0.0\n",
      "Variable: _MSY                 Importance: 0.0\n",
      "Variable: _MTJ                 Importance: 0.0\n",
      "Variable: _MYR                 Importance: 0.0\n",
      "Variable: _OAJ                 Importance: 0.0\n",
      "Variable: _OAK                 Importance: 0.0\n",
      "Variable: _OGG                 Importance: 0.0\n",
      "Variable: _OKC                 Importance: 0.0\n",
      "Variable: _OMA                 Importance: 0.0\n",
      "Variable: _OME                 Importance: 0.0\n",
      "Variable: _ONT                 Importance: 0.0\n",
      "Variable: _ORF                 Importance: 0.0\n",
      "Variable: _OTH                 Importance: 0.0\n",
      "Variable: _OTZ                 Importance: 0.0\n",
      "Variable: _OXR                 Importance: 0.0\n",
      "Variable: _PBI                 Importance: 0.0\n",
      "Variable: _PDX                 Importance: 0.0\n",
      "Variable: _PFN                 Importance: 0.0\n",
      "Variable: _PHF                 Importance: 0.0\n",
      "Variable: _PHL                 Importance: 0.0\n",
      "Variable: _PHX                 Importance: 0.0\n",
      "Variable: _PIA                 Importance: 0.0\n",
      "Variable: _PIH                 Importance: 0.0\n",
      "Variable: _PIR                 Importance: 0.0\n",
      "Variable: _PIT                 Importance: 0.0\n",
      "Variable: _PLN                 Importance: 0.0\n",
      "Variable: _PMD                 Importance: 0.0\n",
      "Variable: _PNS                 Importance: 0.0\n",
      "Variable: _PSC                 Importance: 0.0\n",
      "Variable: _PSE                 Importance: 0.0\n",
      "Variable: _PSG                 Importance: 0.0\n",
      "Variable: _PSP                 Importance: 0.0\n",
      "Variable: _PVD                 Importance: 0.0\n",
      "Variable: _PWM                 Importance: 0.0\n",
      "Variable: _RAP                 Importance: 0.0\n",
      "Variable: _RDD                 Importance: 0.0\n",
      "Variable: _RDM                 Importance: 0.0\n",
      "Variable: _RDU                 Importance: 0.0\n",
      "Variable: _RFD                 Importance: 0.0\n",
      "Variable: _RHI                 Importance: 0.0\n",
      "Variable: _RIC                 Importance: 0.0\n",
      "Variable: _RKS                 Importance: 0.0\n",
      "Variable: _RNO                 Importance: 0.0\n",
      "Variable: _ROA                 Importance: 0.0\n",
      "Variable: _ROC                 Importance: 0.0\n",
      "Variable: _ROW                 Importance: 0.0\n",
      "Variable: _RST                 Importance: 0.0\n",
      "Variable: _RSW                 Importance: 0.0\n",
      "Variable: _SAN                 Importance: 0.0\n",
      "Variable: _SAT                 Importance: 0.0\n",
      "Variable: _SAV                 Importance: 0.0\n",
      "Variable: _SBA                 Importance: 0.0\n",
      "Variable: _SBN                 Importance: 0.0\n",
      "Variable: _SBP                 Importance: 0.0\n",
      "Variable: _SCC                 Importance: 0.0\n",
      "Variable: _SCE                 Importance: 0.0\n",
      "Variable: _SDF                 Importance: 0.0\n",
      "Variable: _SEA                 Importance: 0.0\n",
      "Variable: _SFO                 Importance: 0.0\n",
      "Variable: _SGF                 Importance: 0.0\n",
      "Variable: _SGU                 Importance: 0.0\n",
      "Variable: _SHV                 Importance: 0.0\n",
      "Variable: _SIT                 Importance: 0.0\n",
      "Variable: _SJC                 Importance: 0.0\n",
      "Variable: _SJT                 Importance: 0.0\n",
      "Variable: _SJU                 Importance: 0.0\n",
      "Variable: _SLC                 Importance: 0.0\n",
      "Variable: _SLE                 Importance: 0.0\n",
      "Variable: _SMF                 Importance: 0.0\n",
      "Variable: _SMX                 Importance: 0.0\n",
      "Variable: _SNA                 Importance: 0.0\n",
      "Variable: _SPI                 Importance: 0.0\n",
      "Variable: _SPS                 Importance: 0.0\n",
      "Variable: _SRQ                 Importance: 0.0\n",
      "Variable: _STL                 Importance: 0.0\n",
      "Variable: _STT                 Importance: 0.0\n",
      "Variable: _STX                 Importance: 0.0\n",
      "Variable: _SUN                 Importance: 0.0\n",
      "Variable: _SUX                 Importance: 0.0\n",
      "Variable: _SWF                 Importance: 0.0\n",
      "Variable: _SYR                 Importance: 0.0\n",
      "Variable: _TEX                 Importance: 0.0\n",
      "Variable: _TLH                 Importance: 0.0\n",
      "Variable: _TOL                 Importance: 0.0\n",
      "Variable: _TPA                 Importance: 0.0\n",
      "Variable: _TRI                 Importance: 0.0\n",
      "Variable: _TUL                 Importance: 0.0\n",
      "Variable: _TUP                 Importance: 0.0\n",
      "Variable: _TUS                 Importance: 0.0\n",
      "Variable: _TVC                 Importance: 0.0\n",
      "Variable: _TWF                 Importance: 0.0\n",
      "Variable: _TXK                 Importance: 0.0\n",
      "Variable: _TYR                 Importance: 0.0\n",
      "Variable: _TYS                 Importance: 0.0\n",
      "Variable: _VLD                 Importance: 0.0\n",
      "Variable: _VPS                 Importance: 0.0\n",
      "Variable: _WRG                 Importance: 0.0\n",
      "Variable: _WYS                 Importance: 0.0\n",
      "Variable: _XNA                 Importance: 0.0\n",
      "Variable: _YAK                 Importance: 0.0\n",
      "Variable: _YKM                 Importance: 0.0\n",
      "Variable: _YUM                 Importance: 0.0\n",
      "Variable: Airline_9E           Importance: 0.0\n",
      "Variable: Airline_AA           Importance: 0.0\n",
      "Variable: Airline_AQ           Importance: 0.0\n",
      "Variable: Airline_AS           Importance: 0.0\n",
      "Variable: Airline_B6           Importance: 0.0\n",
      "Variable: Airline_CO           Importance: 0.0\n",
      "Variable: Airline_DL           Importance: 0.0\n",
      "Variable: Airline_EV           Importance: 0.0\n",
      "Variable: Airline_F9           Importance: 0.0\n",
      "Variable: Airline_FL           Importance: 0.0\n",
      "Variable: Airline_HA           Importance: 0.0\n",
      "Variable: Airline_MQ           Importance: 0.0\n",
      "Variable: Airline_NW           Importance: 0.0\n",
      "Variable: Airline_OH           Importance: 0.0\n",
      "Variable: Airline_OO           Importance: 0.0\n",
      "Variable: Airline_UA           Importance: 0.0\n",
      "Variable: Airline_US           Importance: 0.0\n",
      "Variable: Airline_WN           Importance: 0.0\n",
      "Variable: Airline_XE           Importance: 0.0\n",
      "Variable: Airline_YV           Importance: 0.0\n"
     ]
    }
   ],
   "source": [
    "# Get numerical feature importances\n",
    "importances = list(rf.feature_importances_)\n",
    "# List of tuples with variable and importance\n",
    "feature_importances = [(feature, round(importance, 2)) for feature, importance in zip(feature_cols, importances)]\n",
    "# Sort the feature importances by most important first\n",
    "feature_importances = sorted(feature_importances, key = lambda x: x[1], reverse = True)\n",
    "# Print out the feature and importances \n",
    "[print('Variable: {:20} Importance: {}'.format(*pair)) for pair in feature_importances];"
   ]
  },
  {
   "cell_type": "code",
   "execution_count": 121,
   "metadata": {},
   "outputs": [],
   "source": [
    "feature_cols = list(df08_test.columns)\n",
    "#feature_cols"
   ]
  },
  {
   "cell_type": "code",
   "execution_count": 122,
   "metadata": {},
   "outputs": [],
   "source": [
    "categorical_feature_mask = df08_test.dtypes==object\n",
    "# filter categorical columns using mask and turn it into a list\n",
    "categorical_cols = df08_test.columns[categorical_feature_mask].tolist()\n",
    "#list(categorical_feature_mask)"
   ]
  },
  {
   "cell_type": "code",
   "execution_count": 123,
   "metadata": {},
   "outputs": [],
   "source": [
    "foresight_cols = [\"ArrTime\",\"ActualElapsedTime\",\"DepDelay\",'delayedOver30', 'delayedOverHour',\"AirTime\",\"ArrDelay\",\"TaxiIn\",\"TaxiOut\"]\n",
    "#'WeatherDelay','NASDelay','SecurityDelay','LateAircraftDelay',\"CarrierDelay\", \"DepTime\",\n",
    "cols_drop = foresight_cols\n",
    "for i in cols_drop:\n",
    "    feature_cols.remove(i)\n",
    "X = df08_test[feature_cols] # Features\n",
    "y = df08_test.ArrDelay # Target variable"
   ]
  },
  {
   "cell_type": "code",
   "execution_count": 124,
   "metadata": {
    "scrolled": true
   },
   "outputs": [
    {
     "name": "stdout",
     "output_type": "stream",
     "text": [
      "(1096806, 337) (1096806,)\n",
      "(274202, 337) (274202,)\n"
     ]
    }
   ],
   "source": [
    "# Split dataset into training set and test set\n",
    "X_train, X_test, y_train, y_test = train_test_split(X, y, test_size=0.2, random_state=1) # 70% training and 30% test\n",
    "print(X_train.shape, y_train.shape)\n",
    "print(X_test.shape, y_test.shape)"
   ]
  },
  {
   "cell_type": "code",
   "execution_count": 125,
   "metadata": {},
   "outputs": [
    {
     "name": "stdout",
     "output_type": "stream",
     "text": [
      "Score: 0.8949579723215618\n"
     ]
    }
   ],
   "source": [
    "from sklearn.ensemble import RandomForestRegressor\n",
    "rf = RandomForestRegressor(n_estimators = 10, random_state = 42)\n",
    "model = rf.fit(X_train, y_train)\n",
    "# Use the forest's predict method on the test data\n",
    "predictions = rf.predict(X_test)\n",
    "print(\"Score:\", model.score(X_test, y_test))"
   ]
  },
  {
   "cell_type": "code",
   "execution_count": 126,
   "metadata": {
    "scrolled": true
   },
   "outputs": [
    {
     "name": "stdout",
     "output_type": "stream",
     "text": [
      "Variable: CRSDepTime           Importance: 0.26\n",
      "Variable: NASDelay             Importance: 0.24\n",
      "Variable: DepTime              Importance: 0.21\n",
      "Variable: LateAircraftDelay    Importance: 0.12\n",
      "Variable: CarrierDelay         Importance: 0.08\n",
      "Variable: CRSArrTime           Importance: 0.02\n",
      "Variable: Month                Importance: 0.01\n",
      "Variable: DayofMonth           Importance: 0.01\n",
      "Variable: DayOfWeek            Importance: 0.01\n",
      "Variable: FlightNum            Importance: 0.01\n",
      "Variable: CRSElapsedTime       Importance: 0.01\n",
      "Variable: Distance             Importance: 0.01\n",
      "Variable: Year                 Importance: 0.0\n",
      "Variable: WeatherDelay         Importance: 0.0\n",
      "Variable: SecurityDelay        Importance: 0.0\n",
      "Variable: _ABE                 Importance: 0.0\n",
      "Variable: _ABI                 Importance: 0.0\n",
      "Variable: _ABQ                 Importance: 0.0\n",
      "Variable: _ABY                 Importance: 0.0\n",
      "Variable: _ACK                 Importance: 0.0\n",
      "Variable: _ACT                 Importance: 0.0\n",
      "Variable: _ACV                 Importance: 0.0\n",
      "Variable: _ACY                 Importance: 0.0\n",
      "Variable: _ADK                 Importance: 0.0\n",
      "Variable: _ADQ                 Importance: 0.0\n",
      "Variable: _AEX                 Importance: 0.0\n",
      "Variable: _AGS                 Importance: 0.0\n",
      "Variable: _AKN                 Importance: 0.0\n",
      "Variable: _ALB                 Importance: 0.0\n",
      "Variable: _ALO                 Importance: 0.0\n",
      "Variable: _AMA                 Importance: 0.0\n",
      "Variable: _ANC                 Importance: 0.0\n",
      "Variable: _ASE                 Importance: 0.0\n",
      "Variable: _ATL                 Importance: 0.0\n",
      "Variable: _ATW                 Importance: 0.0\n",
      "Variable: _AUS                 Importance: 0.0\n",
      "Variable: _AVL                 Importance: 0.0\n",
      "Variable: _AVP                 Importance: 0.0\n",
      "Variable: _AZO                 Importance: 0.0\n",
      "Variable: _BDL                 Importance: 0.0\n",
      "Variable: _BET                 Importance: 0.0\n",
      "Variable: _BFL                 Importance: 0.0\n",
      "Variable: _BGM                 Importance: 0.0\n",
      "Variable: _BGR                 Importance: 0.0\n",
      "Variable: _BHM                 Importance: 0.0\n",
      "Variable: _BIL                 Importance: 0.0\n",
      "Variable: _BIS                 Importance: 0.0\n",
      "Variable: _BJI                 Importance: 0.0\n",
      "Variable: _BLI                 Importance: 0.0\n",
      "Variable: _BMI                 Importance: 0.0\n",
      "Variable: _BNA                 Importance: 0.0\n",
      "Variable: _BOI                 Importance: 0.0\n",
      "Variable: _BOS                 Importance: 0.0\n",
      "Variable: _BPT                 Importance: 0.0\n",
      "Variable: _BQK                 Importance: 0.0\n",
      "Variable: _BQN                 Importance: 0.0\n",
      "Variable: _BRO                 Importance: 0.0\n",
      "Variable: _BRW                 Importance: 0.0\n",
      "Variable: _BTM                 Importance: 0.0\n",
      "Variable: _BTR                 Importance: 0.0\n",
      "Variable: _BTV                 Importance: 0.0\n",
      "Variable: _BUF                 Importance: 0.0\n",
      "Variable: _BUR                 Importance: 0.0\n",
      "Variable: _BWI                 Importance: 0.0\n",
      "Variable: _BZN                 Importance: 0.0\n",
      "Variable: _CAE                 Importance: 0.0\n",
      "Variable: _CAK                 Importance: 0.0\n",
      "Variable: _CDC                 Importance: 0.0\n",
      "Variable: _CDV                 Importance: 0.0\n",
      "Variable: _CEC                 Importance: 0.0\n",
      "Variable: _CHA                 Importance: 0.0\n",
      "Variable: _CHO                 Importance: 0.0\n",
      "Variable: _CHS                 Importance: 0.0\n",
      "Variable: _CIC                 Importance: 0.0\n",
      "Variable: _CID                 Importance: 0.0\n",
      "Variable: _CLD                 Importance: 0.0\n",
      "Variable: _CLE                 Importance: 0.0\n",
      "Variable: _CLL                 Importance: 0.0\n",
      "Variable: _CLT                 Importance: 0.0\n",
      "Variable: _CMH                 Importance: 0.0\n",
      "Variable: _CMI                 Importance: 0.0\n",
      "Variable: _CMX                 Importance: 0.0\n",
      "Variable: _COD                 Importance: 0.0\n",
      "Variable: _COS                 Importance: 0.0\n",
      "Variable: _CPR                 Importance: 0.0\n",
      "Variable: _CRP                 Importance: 0.0\n",
      "Variable: _CRW                 Importance: 0.0\n",
      "Variable: _CSG                 Importance: 0.0\n",
      "Variable: _CVG                 Importance: 0.0\n",
      "Variable: _CWA                 Importance: 0.0\n",
      "Variable: _DAB                 Importance: 0.0\n",
      "Variable: _DAL                 Importance: 0.0\n",
      "Variable: _DAY                 Importance: 0.0\n",
      "Variable: _DBQ                 Importance: 0.0\n",
      "Variable: _DCA                 Importance: 0.0\n",
      "Variable: _DEN                 Importance: 0.0\n",
      "Variable: _DFW                 Importance: 0.0\n",
      "Variable: _DHN                 Importance: 0.0\n",
      "Variable: _DLG                 Importance: 0.0\n",
      "Variable: _DLH                 Importance: 0.0\n",
      "Variable: _DRO                 Importance: 0.0\n",
      "Variable: _DSM                 Importance: 0.0\n",
      "Variable: _DTW                 Importance: 0.0\n",
      "Variable: _EGE                 Importance: 0.0\n",
      "Variable: _EKO                 Importance: 0.0\n",
      "Variable: _ELM                 Importance: 0.0\n",
      "Variable: _ELP                 Importance: 0.0\n",
      "Variable: _ERI                 Importance: 0.0\n",
      "Variable: _EUG                 Importance: 0.0\n",
      "Variable: _EVV                 Importance: 0.0\n",
      "Variable: _EWN                 Importance: 0.0\n",
      "Variable: _EWR                 Importance: 0.0\n",
      "Variable: _EYW                 Importance: 0.0\n",
      "Variable: _FAI                 Importance: 0.0\n",
      "Variable: _FAR                 Importance: 0.0\n",
      "Variable: _FAT                 Importance: 0.0\n",
      "Variable: _FAY                 Importance: 0.0\n",
      "Variable: _FCA                 Importance: 0.0\n",
      "Variable: _FLG                 Importance: 0.0\n",
      "Variable: _FLL                 Importance: 0.0\n",
      "Variable: _FLO                 Importance: 0.0\n",
      "Variable: _FNT                 Importance: 0.0\n",
      "Variable: _FSD                 Importance: 0.0\n",
      "Variable: _FSM                 Importance: 0.0\n",
      "Variable: _FWA                 Importance: 0.0\n",
      "Variable: _GCC                 Importance: 0.0\n",
      "Variable: _GEG                 Importance: 0.0\n",
      "Variable: _GFK                 Importance: 0.0\n",
      "Variable: _GGG                 Importance: 0.0\n",
      "Variable: _GJT                 Importance: 0.0\n",
      "Variable: _GNV                 Importance: 0.0\n",
      "Variable: _GPT                 Importance: 0.0\n",
      "Variable: _GRB                 Importance: 0.0\n",
      "Variable: _GRK                 Importance: 0.0\n",
      "Variable: _GRR                 Importance: 0.0\n",
      "Variable: _GSO                 Importance: 0.0\n",
      "Variable: _GSP                 Importance: 0.0\n",
      "Variable: _GST                 Importance: 0.0\n",
      "Variable: _GTF                 Importance: 0.0\n",
      "Variable: _GTR                 Importance: 0.0\n",
      "Variable: _GUC                 Importance: 0.0\n",
      "Variable: _HDN                 Importance: 0.0\n",
      "Variable: _HHH                 Importance: 0.0\n",
      "Variable: _HLN                 Importance: 0.0\n",
      "Variable: _HNL                 Importance: 0.0\n",
      "Variable: _HOU                 Importance: 0.0\n",
      "Variable: _HPN                 Importance: 0.0\n",
      "Variable: _HRL                 Importance: 0.0\n",
      "Variable: _HSV                 Importance: 0.0\n",
      "Variable: _HTS                 Importance: 0.0\n",
      "Variable: _IAD                 Importance: 0.0\n",
      "Variable: _IAH                 Importance: 0.0\n",
      "Variable: _ICT                 Importance: 0.0\n",
      "Variable: _IDA                 Importance: 0.0\n",
      "Variable: _ILM                 Importance: 0.0\n",
      "Variable: _IND                 Importance: 0.0\n",
      "Variable: _INL                 Importance: 0.0\n",
      "Variable: _IPL                 Importance: 0.0\n",
      "Variable: _ISP                 Importance: 0.0\n",
      "Variable: _ITH                 Importance: 0.0\n",
      "Variable: _ITO                 Importance: 0.0\n",
      "Variable: _IYK                 Importance: 0.0\n",
      "Variable: _JAC                 Importance: 0.0\n",
      "Variable: _JAN                 Importance: 0.0\n",
      "Variable: _JAX                 Importance: 0.0\n",
      "Variable: _JFK                 Importance: 0.0\n",
      "Variable: _JNU                 Importance: 0.0\n",
      "Variable: _KOA                 Importance: 0.0\n",
      "Variable: _KTN                 Importance: 0.0\n",
      "Variable: _LAN                 Importance: 0.0\n",
      "Variable: _LAS                 Importance: 0.0\n",
      "Variable: _LAW                 Importance: 0.0\n",
      "Variable: _LAX                 Importance: 0.0\n",
      "Variable: _LBB                 Importance: 0.0\n",
      "Variable: _LCH                 Importance: 0.0\n",
      "Variable: _LEX                 Importance: 0.0\n",
      "Variable: _LFT                 Importance: 0.0\n",
      "Variable: _LGA                 Importance: 0.0\n",
      "Variable: _LGB                 Importance: 0.0\n",
      "Variable: _LIH                 Importance: 0.0\n",
      "Variable: _LIT                 Importance: 0.0\n",
      "Variable: _LMT                 Importance: 0.0\n",
      "Variable: _LNK                 Importance: 0.0\n",
      "Variable: _LRD                 Importance: 0.0\n",
      "Variable: _LSE                 Importance: 0.0\n",
      "Variable: _LWB                 Importance: 0.0\n",
      "Variable: _LWS                 Importance: 0.0\n",
      "Variable: _LYH                 Importance: 0.0\n",
      "Variable: _MAF                 Importance: 0.0\n",
      "Variable: _MBS                 Importance: 0.0\n",
      "Variable: _MCI                 Importance: 0.0\n",
      "Variable: _MCN                 Importance: 0.0\n",
      "Variable: _MCO                 Importance: 0.0\n",
      "Variable: _MDT                 Importance: 0.0\n",
      "Variable: _MDW                 Importance: 0.0\n",
      "Variable: _MEI                 Importance: 0.0\n",
      "Variable: _MEM                 Importance: 0.0\n",
      "Variable: _MFE                 Importance: 0.0\n",
      "Variable: _MFR                 Importance: 0.0\n",
      "Variable: _MGM                 Importance: 0.0\n",
      "Variable: _MHT                 Importance: 0.0\n",
      "Variable: _MIA                 Importance: 0.0\n",
      "Variable: _MKE                 Importance: 0.0\n",
      "Variable: _MKG                 Importance: 0.0\n",
      "Variable: _MLB                 Importance: 0.0\n",
      "Variable: _MLI                 Importance: 0.0\n",
      "Variable: _MLU                 Importance: 0.0\n",
      "Variable: _MOB                 Importance: 0.0\n",
      "Variable: _MOD                 Importance: 0.0\n",
      "Variable: _MOT                 Importance: 0.0\n",
      "Variable: _MQT                 Importance: 0.0\n",
      "Variable: _MRY                 Importance: 0.0\n",
      "Variable: _MSN                 Importance: 0.0\n",
      "Variable: _MSO                 Importance: 0.0\n",
      "Variable: _MSP                 Importance: 0.0\n",
      "Variable: _MSY                 Importance: 0.0\n",
      "Variable: _MTJ                 Importance: 0.0\n",
      "Variable: _MYR                 Importance: 0.0\n",
      "Variable: _OAJ                 Importance: 0.0\n",
      "Variable: _OAK                 Importance: 0.0\n",
      "Variable: _OGG                 Importance: 0.0\n",
      "Variable: _OKC                 Importance: 0.0\n",
      "Variable: _OMA                 Importance: 0.0\n",
      "Variable: _OME                 Importance: 0.0\n",
      "Variable: _ONT                 Importance: 0.0\n",
      "Variable: _ORD                 Importance: 0.0\n",
      "Variable: _ORF                 Importance: 0.0\n",
      "Variable: _OTH                 Importance: 0.0\n",
      "Variable: _OTZ                 Importance: 0.0\n",
      "Variable: _OXR                 Importance: 0.0\n",
      "Variable: _PBI                 Importance: 0.0\n",
      "Variable: _PDX                 Importance: 0.0\n",
      "Variable: _PFN                 Importance: 0.0\n",
      "Variable: _PHF                 Importance: 0.0\n",
      "Variable: _PHL                 Importance: 0.0\n",
      "Variable: _PHX                 Importance: 0.0\n",
      "Variable: _PIA                 Importance: 0.0\n",
      "Variable: _PIH                 Importance: 0.0\n",
      "Variable: _PIR                 Importance: 0.0\n",
      "Variable: _PIT                 Importance: 0.0\n",
      "Variable: _PLN                 Importance: 0.0\n",
      "Variable: _PMD                 Importance: 0.0\n",
      "Variable: _PNS                 Importance: 0.0\n",
      "Variable: _PSC                 Importance: 0.0\n",
      "Variable: _PSE                 Importance: 0.0\n",
      "Variable: _PSG                 Importance: 0.0\n",
      "Variable: _PSP                 Importance: 0.0\n",
      "Variable: _PVD                 Importance: 0.0\n",
      "Variable: _PWM                 Importance: 0.0\n",
      "Variable: _RAP                 Importance: 0.0\n",
      "Variable: _RDD                 Importance: 0.0\n",
      "Variable: _RDM                 Importance: 0.0\n",
      "Variable: _RDU                 Importance: 0.0\n",
      "Variable: _RFD                 Importance: 0.0\n",
      "Variable: _RHI                 Importance: 0.0\n",
      "Variable: _RIC                 Importance: 0.0\n",
      "Variable: _RKS                 Importance: 0.0\n",
      "Variable: _RNO                 Importance: 0.0\n",
      "Variable: _ROA                 Importance: 0.0\n",
      "Variable: _ROC                 Importance: 0.0\n",
      "Variable: _ROW                 Importance: 0.0\n",
      "Variable: _RST                 Importance: 0.0\n",
      "Variable: _RSW                 Importance: 0.0\n",
      "Variable: _SAN                 Importance: 0.0\n",
      "Variable: _SAT                 Importance: 0.0\n",
      "Variable: _SAV                 Importance: 0.0\n",
      "Variable: _SBA                 Importance: 0.0\n",
      "Variable: _SBN                 Importance: 0.0\n",
      "Variable: _SBP                 Importance: 0.0\n",
      "Variable: _SCC                 Importance: 0.0\n",
      "Variable: _SCE                 Importance: 0.0\n",
      "Variable: _SDF                 Importance: 0.0\n",
      "Variable: _SEA                 Importance: 0.0\n",
      "Variable: _SFO                 Importance: 0.0\n",
      "Variable: _SGF                 Importance: 0.0\n",
      "Variable: _SGU                 Importance: 0.0\n",
      "Variable: _SHV                 Importance: 0.0\n",
      "Variable: _SIT                 Importance: 0.0\n",
      "Variable: _SJC                 Importance: 0.0\n",
      "Variable: _SJT                 Importance: 0.0\n",
      "Variable: _SJU                 Importance: 0.0\n",
      "Variable: _SLC                 Importance: 0.0\n",
      "Variable: _SLE                 Importance: 0.0\n",
      "Variable: _SMF                 Importance: 0.0\n",
      "Variable: _SMX                 Importance: 0.0\n",
      "Variable: _SNA                 Importance: 0.0\n",
      "Variable: _SPI                 Importance: 0.0\n",
      "Variable: _SPS                 Importance: 0.0\n",
      "Variable: _SRQ                 Importance: 0.0\n",
      "Variable: _STL                 Importance: 0.0\n",
      "Variable: _STT                 Importance: 0.0\n",
      "Variable: _STX                 Importance: 0.0\n",
      "Variable: _SUN                 Importance: 0.0\n",
      "Variable: _SUX                 Importance: 0.0\n",
      "Variable: _SWF                 Importance: 0.0\n",
      "Variable: _SYR                 Importance: 0.0\n",
      "Variable: _TEX                 Importance: 0.0\n",
      "Variable: _TLH                 Importance: 0.0\n",
      "Variable: _TOL                 Importance: 0.0\n",
      "Variable: _TPA                 Importance: 0.0\n",
      "Variable: _TRI                 Importance: 0.0\n",
      "Variable: _TUL                 Importance: 0.0\n",
      "Variable: _TUP                 Importance: 0.0\n",
      "Variable: _TUS                 Importance: 0.0\n",
      "Variable: _TVC                 Importance: 0.0\n",
      "Variable: _TWF                 Importance: 0.0\n",
      "Variable: _TXK                 Importance: 0.0\n",
      "Variable: _TYR                 Importance: 0.0\n",
      "Variable: _TYS                 Importance: 0.0\n",
      "Variable: _VLD                 Importance: 0.0\n",
      "Variable: _VPS                 Importance: 0.0\n",
      "Variable: _WRG                 Importance: 0.0\n",
      "Variable: _WYS                 Importance: 0.0\n",
      "Variable: _XNA                 Importance: 0.0\n",
      "Variable: _YAK                 Importance: 0.0\n",
      "Variable: _YKM                 Importance: 0.0\n",
      "Variable: _YUM                 Importance: 0.0\n",
      "Variable: Airline_9E           Importance: 0.0\n",
      "Variable: Airline_AA           Importance: 0.0\n",
      "Variable: Airline_AQ           Importance: 0.0\n",
      "Variable: Airline_AS           Importance: 0.0\n",
      "Variable: Airline_B6           Importance: 0.0\n",
      "Variable: Airline_CO           Importance: 0.0\n",
      "Variable: Airline_DL           Importance: 0.0\n",
      "Variable: Airline_EV           Importance: 0.0\n",
      "Variable: Airline_F9           Importance: 0.0\n",
      "Variable: Airline_FL           Importance: 0.0\n",
      "Variable: Airline_HA           Importance: 0.0\n",
      "Variable: Airline_MQ           Importance: 0.0\n",
      "Variable: Airline_NW           Importance: 0.0\n",
      "Variable: Airline_OH           Importance: 0.0\n",
      "Variable: Airline_OO           Importance: 0.0\n",
      "Variable: Airline_UA           Importance: 0.0\n",
      "Variable: Airline_US           Importance: 0.0\n",
      "Variable: Airline_WN           Importance: 0.0\n",
      "Variable: Airline_XE           Importance: 0.0\n",
      "Variable: Airline_YV           Importance: 0.0\n"
     ]
    }
   ],
   "source": [
    "# Get numerical feature importances\n",
    "importances = list(rf.feature_importances_)\n",
    "# List of tuples with variable and importance\n",
    "feature_importances = [(feature, round(importance, 2)) for feature, importance in zip(feature_cols, importances)]\n",
    "# Sort the feature importances by most important first\n",
    "feature_importances = sorted(feature_importances, key = lambda x: x[1], reverse = True)\n",
    "# Print out the feature and importances \n",
    "[print('Variable: {:20} Importance: {}'.format(*pair)) for pair in feature_importances];"
   ]
  },
  {
   "cell_type": "code",
   "execution_count": null,
   "metadata": {},
   "outputs": [],
   "source": []
  }
 ],
 "metadata": {
  "kernelspec": {
   "display_name": "Python 3",
   "language": "python",
   "name": "python3"
  },
  "language_info": {
   "codemirror_mode": {
    "name": "ipython",
    "version": 3
   },
   "file_extension": ".py",
   "mimetype": "text/x-python",
   "name": "python",
   "nbconvert_exporter": "python",
   "pygments_lexer": "ipython3",
   "version": "3.7.3"
  }
 },
 "nbformat": 4,
 "nbformat_minor": 2
}
